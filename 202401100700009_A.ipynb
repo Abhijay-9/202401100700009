{
  "nbformat": 4,
  "nbformat_minor": 0,
  "metadata": {
    "colab": {
      "provenance": [],
      "authorship_tag": "ABX9TyP0u9wr7Uo2OBk6DaL3ahsr",
      "include_colab_link": true
    },
    "kernelspec": {
      "name": "python3",
      "display_name": "Python 3"
    },
    "language_info": {
      "name": "python"
    }
  },
  "cells": [
    {
      "cell_type": "markdown",
      "metadata": {
        "id": "view-in-github",
        "colab_type": "text"
      },
      "source": [
        "<a href=\"https://colab.research.google.com/github/Abhijay-9/202401100700009/blob/main/202401100700009_A.ipynb\" target=\"_parent\"><img src=\"https://colab.research.google.com/assets/colab-badge.svg\" alt=\"Open In Colab\"/></a>"
      ]
    },
    {
      "cell_type": "code",
      "execution_count": null,
      "metadata": {
        "colab": {
          "base_uri": "https://localhost:8080/"
        },
        "id": "hN-AdF9dMCzQ",
        "outputId": "54090d2c-e9fe-4a07-ee4f-c7783f45d30d"
      },
      "outputs": [
        {
          "name": "stdout",
          "output_type": "stream",
          "text": [
            "do you want to continue y/n\n",
            "y\n",
            "Current temperature: 78°C\n",
            "do you want to continue y/n\n",
            "y\n",
            "Current temperature: 73°C\n",
            "do you want to continue y/n\n",
            "\n",
            "Current temperature: 64°C\n",
            "do you want to continue y/n\n",
            "y\n",
            "Current temperature: 71°C\n",
            "do you want to continue y/n\n",
            "\n",
            "Current temperature: 82°C\n",
            "Temperature is above the upper limit  80\n",
            "do you want to continue y/n\n",
            "y\n",
            "Current temperature: 46°C\n",
            "do you want to continue y/n\n",
            "n\n"
          ]
        }
      ],
      "source": [
        "import random\n",
        "\n",
        "\n",
        "def temperature_monitor(ll,ul):\n",
        "\n",
        "  print(\"do you want to continue y/n\")\n",
        "  answer = str(input())\n",
        "\n",
        "  while answer != 'n':\n",
        "    temperature = random.randint(10, 90)\n",
        "    print(f\"Current temperature: {temperature}°C\")\n",
        "\n",
        "    if temperature < ll:\n",
        "      print(\"Temperature is below the lower limit \",ll)\n",
        "    elif temperature > ul:\n",
        "      print(\"Temperature is above the upper limit \",ul)\n",
        "    print(\"do you want to continue y/n\")\n",
        "    answer = str(input())\n",
        "    if answer == 'n':\n",
        "      break\n",
        "\n",
        "\n",
        "\n",
        "ll = 20\n",
        "ul = 80\n",
        "temperature_monitor(ll,ul)\n"
      ]
    },
    {
      "cell_type": "code",
      "source": [
        "yy"
      ],
      "metadata": {
        "id": "l0FxllM1NJrC"
      },
      "execution_count": null,
      "outputs": []
    }
  ]
}